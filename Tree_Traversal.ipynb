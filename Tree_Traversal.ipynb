{
 "cells": [
  {
   "cell_type": "code",
   "execution_count": 27,
   "metadata": {},
   "outputs": [
    {
     "name": "stdout",
     "output_type": "stream",
     "text": [
      "A\n",
      "D\n",
      "E\n",
      "B\n",
      "C\n"
     ]
    }
   ],
   "source": [
    "class node:\n",
    "    def __init__(self, dataval=None):\n",
    "        self.dataval = dataval\n",
    "        self.leftval = None\n",
    "        self.rightval = None\n",
    "\n",
    "e1 = node('C')\n",
    "e2 = node('B')\n",
    "e3 = node('A')\n",
    "e4 = node('D')\n",
    "e5 = node('E')\n",
    "\n",
    "e3.leftval = e2\n",
    "e2.leftval = e1\n",
    "e3.rightval = e4\n",
    "e4.rightval = e5\n",
    "\n",
    "root = e3\n",
    "currentnode = root\n",
    "\n",
    "while currentnode.rightval:\n",
    "    print(currentnode.dataval)\n",
    "    currentnode = currentnode.rightval\n",
    "print(currentnode.dataval)\n",
    "\n",
    "currentnode = root\n",
    "while currentnode.leftval:\n",
    "    if not(currentnode == root):\n",
    "        print(currentnode.dataval)\n",
    "    currentnode = currentnode.leftval\n",
    "print(currentnode.dataval)\n"
   ]
  },
  {
   "cell_type": "code",
   "execution_count": 28,
   "metadata": {},
   "outputs": [
    {
     "name": "stdout",
     "output_type": "stream",
     "text": [
      "C\n",
      "B\n",
      "A\n",
      "D\n",
      "E\n"
     ]
    }
   ],
   "source": [
    "#in order traversal\n",
    "root = e3\n",
    "#currentnode = root\n",
    "\n",
    "def inorder_traversal(node):\n",
    "    currentnode = node\n",
    "    \n",
    "    if(currentnode.leftval):\n",
    "         inorder_traversal(currentnode.leftval)\n",
    "    print(currentnode.dataval)\n",
    "    if(currentnode.rightval != None):\n",
    "         inorder_traversal(currentnode.rightval)\n",
    "\n",
    "inorder_traversal(root)\n"
   ]
  },
  {
   "cell_type": "code",
   "execution_count": 29,
   "metadata": {},
   "outputs": [
    {
     "name": "stdout",
     "output_type": "stream",
     "text": [
      "A\n",
      "B\n",
      "C\n",
      "D\n",
      "E\n"
     ]
    }
   ],
   "source": [
    "#pre order traversal\n",
    "root = e3\n",
    "#currentnode = root\n",
    "\n",
    "def preorder_traversal(node):\n",
    "    currentnode = node\n",
    "    \n",
    "    print(currentnode.dataval)\n",
    "    if(currentnode.leftval):\n",
    "         preorder_traversal(currentnode.leftval)\n",
    "    if(currentnode.rightval):\n",
    "         preorder_traversal(currentnode.rightval)\n",
    "\n",
    "preorder_traversal(root)"
   ]
  },
  {
   "cell_type": "code",
   "execution_count": 31,
   "metadata": {},
   "outputs": [
    {
     "name": "stdout",
     "output_type": "stream",
     "text": [
      "C\n",
      "B\n",
      "E\n",
      "D\n",
      "A\n"
     ]
    }
   ],
   "source": [
    "#post order traversal\n",
    "root = e3\n",
    "#currentnode = root\n",
    "\n",
    "def postorder_traversal(node):\n",
    "    currentnode = node\n",
    "    \n",
    "    if(currentnode.leftval):\n",
    "         postorder_traversal(currentnode.leftval)\n",
    "    if(currentnode.rightval):\n",
    "         postorder_traversal(currentnode.rightval)\n",
    "    print(currentnode.dataval)\n",
    "\n",
    "postorder_traversal(root)"
   ]
  },
  {
   "cell_type": "code",
   "execution_count": null,
   "metadata": {},
   "outputs": [],
   "source": []
  }
 ],
 "metadata": {
  "kernelspec": {
   "display_name": "Python 3",
   "language": "python",
   "name": "python3"
  },
  "language_info": {
   "codemirror_mode": {
    "name": "ipython",
    "version": 3
   },
   "file_extension": ".py",
   "mimetype": "text/x-python",
   "name": "python",
   "nbconvert_exporter": "python",
   "pygments_lexer": "ipython3",
   "version": "3.6.4"
  }
 },
 "nbformat": 4,
 "nbformat_minor": 2
}
